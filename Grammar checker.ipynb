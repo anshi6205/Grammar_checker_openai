{
 "cells": [
  {
   "cell_type": "code",
   "execution_count": 1,
   "id": "d01d43ce",
   "metadata": {},
   "outputs": [],
   "source": [
    "#It is usually used to check the format/parsers "
   ]
  },
  {
   "cell_type": "code",
   "execution_count": 2,
   "id": "0cbd7c5f",
   "metadata": {},
   "outputs": [],
   "source": [
    "from langchain.output_parsers import StructuredOutputParser, ResponseSchema\n",
    "from langchain.prompts import ChatPromptTemplate, HumanMessagePromptTemplate\n",
    "from langchain.llms import OpenAI"
   ]
  },
  {
   "cell_type": "code",
   "execution_count": 3,
   "id": "83b7f890",
   "metadata": {},
   "outputs": [],
   "source": [
    "llm = OpenAI(openai_api_key=\"\")"
   ]
  },
  {
   "cell_type": "code",
   "execution_count": 10,
   "id": "705609ab",
   "metadata": {},
   "outputs": [
    {
     "name": "stdout",
     "output_type": "stream",
     "text": [
      "The output should be a markdown code snippet formatted in the following schema, including the leading and trailing \"```json\" and \"```\":\n",
      "\n",
      "```json\n",
      "{\n",
      "\t\"bad_string\": string  // This a poorly formatted user input string\n",
      "\t\"good_string\": string  // This is your response, a reformatted response\n",
      "}\n",
      "```\n"
     ]
    }
   ],
   "source": [
    "# How you would like your response structured. This is basically a fancy prompt template\n",
    "response_schemas = [\n",
    "    ResponseSchema(name=\"bad_string\", description=\"This a poorly formatted user input string\"),\n",
    "    ResponseSchema(name=\"good_string\", description=\"This is your response, a reformatted response\")\n",
    "]\n",
    "\n",
    "# How you would like to parse your output\n",
    "output_parser = StructuredOutputParser.from_response_schemas(response_schemas)\n",
    "# See the prompt template you created for formatting\n",
    "format_instructions = output_parser.get_format_instructions()\n",
    "print (format_instructions)"
   ]
  },
  {
   "cell_type": "code",
   "execution_count": 11,
   "id": "d8550885",
   "metadata": {},
   "outputs": [
    {
     "name": "stdout",
     "output_type": "stream",
     "text": [
      "\n",
      "You will be given a poorly formatted string from a user.\n",
      "Reformat it and make sure all the words are spelled correctly\n",
      "\n",
      "The output should be a markdown code snippet formatted in the following schema, including the leading and trailing \"```json\" and \"```\":\n",
      "\n",
      "```json\n",
      "{\n",
      "\t\"bad_string\": string  // This a poorly formatted user input string\n",
      "\t\"good_string\": string  // This is your response, a reformatted response\n",
      "}\n",
      "```\n",
      "\n",
      "% USER INPUT:\n",
      "At the start of  school Dora was afrad of  her new TeacherMrs. Davis seamed nice, but she had so manny rules for the class to folowScare someone to pieces. As the school year cotinued, Dora begun to understanhow the Teacher come up with the rules The rules were their so students wouldbe respecful of  theyselves and each other. By the end of  the yearDora though Mrs. Davis was the best Teacher she evere had!\n",
      "\n",
      "YOUR RESPONSE:\n",
      "\n"
     ]
    }
   ],
   "source": [
    "from langchain.prompts import PromptTemplate\n",
    "template = \"\"\"\n",
    "You will be given a poorly formatted string from a user.\n",
    "Reformat it and make sure all the words are spelled correctly\n",
    "\n",
    "{format_instructions}\n",
    "\n",
    "% USER INPUT:\n",
    "{user_input}\n",
    "\n",
    "YOUR RESPONSE:\n",
    "\"\"\"\n",
    "\n",
    "prompt = PromptTemplate(\n",
    "    input_variables=[\"user_input\"],\n",
    "    partial_variables={\"format_instructions\": format_instructions},\n",
    "    template=template\n",
    ")\n",
    "\n",
    "promptValue = prompt.format(user_input=\"At the start of  school Dora was afrad of  her new Teacher\"\n",
    "                            \"Mrs. Davis seamed nice, but she had so manny rules for the class to folow\"\n",
    "                            \"Scare someone to pieces. As the school year cotinued, Dora begun to understan\"\n",
    "                            \"how the Teacher come up with the rules The rules were their so students would\"\n",
    "                            \"be respecful of  theyselves and each other. By the end of  the year\"\n",
    "                            \"Dora though Mrs. Davis was the best Teacher she evere had!\")\n",
    "print(promptValue)"
   ]
  },
  {
   "cell_type": "code",
   "execution_count": 12,
   "id": "6616b3da",
   "metadata": {
    "scrolled": true
   },
   "outputs": [
    {
     "data": {
      "text/plain": [
       "'```json\\n{\\n\\t\"bad_string\": \"At the start of  school Dora was afrad of  her new TeacherMrs. Davis seamed nice, but she had so manny rules for the class to folowScare someone to pieces. As the school year cotinued, Dora begun to understanhow the Teacher come up with the rules The rules were their so students wouldbe respecful of  theyselves and each other. By the end of  the yearDora though Mrs. Davis was the best Teacher she evere had!\",\\n\\t\"good_string\": \"At the start of school, Dora was afraid of her new teacher. Mrs. Davis seemed nice, but she had so many rules for the class to follow. As the school year continued, Dora began to understand how the teacher came up with the rules. The rules were there so students would be respectful of themselves and each other. By the end of the year, Dora thought Mrs. Davis was the best teacher she ever had!\"\\n}\\n```'"
      ]
     },
     "execution_count": 12,
     "metadata": {},
     "output_type": "execute_result"
    }
   ],
   "source": [
    "llm_output = llm(promptValue)\n",
    "llm_output"
   ]
  },
  {
   "cell_type": "code",
   "execution_count": 13,
   "id": "01794dd6",
   "metadata": {},
   "outputs": [
    {
     "data": {
      "text/plain": [
       "{'bad_string': 'At the start of  school Dora was afrad of  her new TeacherMrs. Davis seamed nice, but she had so manny rules for the class to folowScare someone to pieces. As the school year cotinued, Dora begun to understanhow the Teacher come up with the rules The rules were their so students wouldbe respecful of  theyselves and each other. By the end of  the yearDora though Mrs. Davis was the best Teacher she evere had!',\n",
       " 'good_string': 'At the start of school, Dora was afraid of her new teacher. Mrs. Davis seemed nice, but she had so many rules for the class to follow. As the school year continued, Dora began to understand how the teacher came up with the rules. The rules were there so students would be respectful of themselves and each other. By the end of the year, Dora thought Mrs. Davis was the best teacher she ever had!'}"
      ]
     },
     "execution_count": 13,
     "metadata": {},
     "output_type": "execute_result"
    }
   ],
   "source": [
    "output_parser.parse(llm_output)"
   ]
  },
  {
   "cell_type": "code",
   "execution_count": null,
   "id": "c9820955",
   "metadata": {},
   "outputs": [],
   "source": []
  },
  {
   "cell_type": "code",
   "execution_count": null,
   "id": "14a97e24",
   "metadata": {},
   "outputs": [],
   "source": []
  },
  {
   "cell_type": "code",
   "execution_count": null,
   "id": "a56bda56",
   "metadata": {},
   "outputs": [],
   "source": []
  }
 ],
 "metadata": {
  "kernelspec": {
   "display_name": "Python 3 (ipykernel)",
   "language": "python",
   "name": "python3"
  },
  "language_info": {
   "codemirror_mode": {
    "name": "ipython",
    "version": 3
   },
   "file_extension": ".py",
   "mimetype": "text/x-python",
   "name": "python",
   "nbconvert_exporter": "python",
   "pygments_lexer": "ipython3",
   "version": "3.10.9"
  }
 },
 "nbformat": 4,
 "nbformat_minor": 5
}
